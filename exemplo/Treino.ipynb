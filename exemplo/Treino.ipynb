{
 "cells": [
  {
   "cell_type": "markdown",
   "metadata": {},
   "source": [
    "Exemplos uso API\n"
   ]
  },
  {
   "cell_type": "markdown",
   "metadata": {},
   "source": [
    "URL API"
   ]
  },
  {
   "cell_type": "code",
   "execution_count": 1,
   "metadata": {},
   "outputs": [],
   "source": [
    "import requests\n",
    "BASE_URL = \"http://127.0.0.1:5000/api/treino\""
   ]
  },
  {
   "cell_type": "markdown",
   "metadata": {},
   "source": [
    "Endpoint Cadastro de treino"
   ]
  },
  {
   "cell_type": "code",
   "execution_count": null,
   "metadata": {},
   "outputs": [],
   "source": [
    "data ={\n",
    "    data = {\n",
    "            \"nome\": \"Pernas\",\n",
    "            \"repeticao\": 3,\n",
    "            \"serie\": 15,\n",
    "            \"idPessoa\": 1,\n",
    "            \"idExercicio\": 4\n",
    "        }\n",
    "}\n",
    "\n",
    "response = requests.post(\n",
    "    BASE_URL,\n",
    "    data=data\n",
    ")"
   ]
  },
  {
   "cell_type": "markdown",
   "metadata": {},
   "source": [
    "Endpoint buscar Treino por ID"
   ]
  },
  {
   "cell_type": "code",
   "execution_count": 2,
   "metadata": {},
   "outputs": [
    {
     "data": {
      "text/plain": [
       "'{\\n  \"id\": 1,\\n  \"idPessoa\": 1,\\n  \"nome\": \"TreinoA\",\\n  \"repeticao\": 12,\\n  \"serie\": 4\\n}\\n'"
      ]
     },
     "execution_count": 2,
     "metadata": {},
     "output_type": "execute_result"
    }
   ],
   "source": [
    "response = requests.get(\n",
    "    BASE_URL + \"/1\"\n",
    ")\n",
    "\n",
    "response.text"
   ]
  },
  {
   "cell_type": "markdown",
   "metadata": {},
   "source": [
    "Endpoint bucar todos os treino pelo Id Pessoa"
   ]
  },
  {
   "cell_type": "code",
   "execution_count": 3,
   "metadata": {},
   "outputs": [
    {
     "data": {
      "text/plain": [
       "'[\\n  {\\n    \"exercicio\": {\\n      \"id\": 1,\\n      \"nome\": \"Supino Reto Barra\",\\n      \"video\": \"https://youtube.com/shorts/UHa9U-O09_U?si=X6joDOdF8iryq4LF\"\\n    },\\n    \"id\": 1,\\n    \"idPessoa\": 1,\\n    \"nome\": \"TreinoA\",\\n    \"repeticao\": 12,\\n    \"serie\": 4\\n  }\\n]\\n'"
      ]
     },
     "execution_count": 3,
     "metadata": {},
     "output_type": "execute_result"
    }
   ],
   "source": [
    "response = requests.get(\n",
    "    BASE_URL+ \"/pessoa/1\"\n",
    "    )\n",
    "\n",
    "response.text"
   ]
  },
  {
   "cell_type": "markdown",
   "metadata": {},
   "source": [
    "Endpoint Atualizar Treino"
   ]
  },
  {
   "cell_type": "code",
   "execution_count": null,
   "metadata": {},
   "outputs": [],
   "source": [
    "data = {\n",
    "            \"nome\": \"Treino Alterado\",\n",
    "            \"repeticao\": 15,\n",
    "            \"serie\": 2,\n",
    "            \"idPessoa\": 1,\n",
    "            \"idExercicio\": 1\n",
    "        }\n",
    "\n",
    "    \n",
    "response = requests.put(\n",
    "    BASE_URL+ \"/1\" , \n",
    "    data=data)"
   ]
  },
  {
   "cell_type": "markdown",
   "metadata": {},
   "source": [
    "Endpoint Exclusão de Treino"
   ]
  },
  {
   "cell_type": "code",
   "execution_count": null,
   "metadata": {},
   "outputs": [],
   "source": [
    "response = requests.delete(\n",
    "    BASE_URL+ \"/20\"\n",
    ")"
   ]
  }
 ],
 "metadata": {
  "kernelspec": {
   "display_name": "Python 3",
   "language": "python",
   "name": "python3"
  },
  "language_info": {
   "codemirror_mode": {
    "name": "ipython",
    "version": 3
   },
   "file_extension": ".py",
   "mimetype": "text/x-python",
   "name": "python",
   "nbconvert_exporter": "python",
   "pygments_lexer": "ipython3",
   "version": "3.13.0"
  }
 },
 "nbformat": 4,
 "nbformat_minor": 2
}

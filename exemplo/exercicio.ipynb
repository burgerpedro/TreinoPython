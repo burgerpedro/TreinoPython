{
 "cells": [
  {
   "cell_type": "markdown",
   "metadata": {},
   "source": [
    "Exemplos uso API\n"
   ]
  },
  {
   "cell_type": "markdown",
   "metadata": {},
   "source": [
    "URL API"
   ]
  },
  {
   "cell_type": "code",
   "execution_count": 1,
   "metadata": {},
   "outputs": [],
   "source": [
    "import requests\n",
    "BASE_URL = \"http://127.0.0.1:5000/api/exercicio\""
   ]
  },
  {
   "cell_type": "markdown",
   "metadata": {},
   "source": [
    "Endpoint para cadastro de Exercicio"
   ]
  },
  {
   "cell_type": "code",
   "execution_count": null,
   "metadata": {},
   "outputs": [],
   "source": [
    "data ={\n",
    "    \"nome\": \"Cruxifixo invertido HBC\",\n",
    "    \"video\": \"https://youtube.com/shorts/MHogGITTTBo?si=vUVY0a2d9voGOrXN\",\n",
    "    \"idGrupoMuscular\": 2\n",
    "}\n",
    "\n",
    "response = requests.post(\n",
    "    BASE_URL,\n",
    "    data=data\n",
    ")"
   ]
  },
  {
   "cell_type": "markdown",
   "metadata": {},
   "source": [
    "Endpoint para buscar de Exercicio por id"
   ]
  },
  {
   "cell_type": "code",
   "execution_count": 8,
   "metadata": {},
   "outputs": [
    {
     "data": {
      "text/plain": [
       "'{\\n  \"id\": 1,\\n  \"idGrupoMuscular\": 1,\\n  \"nome\": \"Supino Reto Barra\",\\n  \"video\": \"https://youtube.com/shorts/UHa9U-O09_U?si=X6joDOdF8iryq4LF\"\\n}\\n'"
      ]
     },
     "execution_count": 8,
     "metadata": {},
     "output_type": "execute_result"
    }
   ],
   "source": [
    "response = requests.get(\n",
    "    BASE_URL + \"/1\"\n",
    ")\n",
    "\n",
    "response.text"
   ]
  },
  {
   "cell_type": "markdown",
   "metadata": {},
   "source": [
    "Endpoint listar todos exercicios"
   ]
  },
  {
   "cell_type": "code",
   "execution_count": 9,
   "metadata": {},
   "outputs": [
    {
     "data": {
      "text/plain": [
       "'[\\n  {\\n    \"id\": 1,\\n    \"idGrupoMuscular\": 1,\\n    \"nome\": \"Supino Reto Barra\",\\n    \"video\": \"https://youtube.com/shorts/UHa9U-O09_U?si=X6joDOdF8iryq4LF\"\\n  },\\n  {\\n    \"id\": 2,\\n    \"idGrupoMuscular\": 1,\\n    \"nome\": \"Supino inclinado halteres\",\\n    \"video\": \"https://youtube.com/shorts/ZaNyRjpoki8?si=UHBK6re9lATPdfSH\"\\n  },\\n  {\\n    \"id\": 3,\\n    \"idGrupoMuscular\": 2,\\n    \"nome\": \"Puxada Romana\",\\n    \"video\": \"https://youtube.com/shorts/Bl1Oy6k9cww?si=9FOPlegzZIHeRs2e\"\\n  }\\n]\\n'"
      ]
     },
     "execution_count": 9,
     "metadata": {},
     "output_type": "execute_result"
    }
   ],
   "source": [
    "response = requests.get(\n",
    "    BASE_URL\n",
    ")\n",
    "\n",
    "response.text"
   ]
  },
  {
   "cell_type": "markdown",
   "metadata": {},
   "source": [
    "Endpoint atualizar Exercicio"
   ]
  },
  {
   "cell_type": "code",
   "execution_count": null,
   "metadata": {},
   "outputs": [],
   "source": [
    "data ={\n",
    "    \"nome\": \"Voador invertido\",\n",
    "    \"video\": \"https://youtube.com/shorts/wUT3hmnzq3c?si=mWLMPZWSxwB77LBf\",\n",
    "    \"idGrupoMuscular\": 2\n",
    "}\n",
    "\n",
    "response = requests.post(\n",
    "    BASE_URL + \"/2\",\n",
    "    data=data\n",
    ")"
   ]
  },
  {
   "cell_type": "markdown",
   "metadata": {},
   "source": [
    "Excluir Exercicio"
   ]
  },
  {
   "cell_type": "code",
   "execution_count": null,
   "metadata": {},
   "outputs": [],
   "source": [
    "response = requests.delete(\n",
    "    BASE_URL+ \"/10\"\n",
    ")"
   ]
  }
 ],
 "metadata": {
  "kernelspec": {
   "display_name": "Python 3",
   "language": "python",
   "name": "python3"
  },
  "language_info": {
   "codemirror_mode": {
    "name": "ipython",
    "version": 3
   },
   "file_extension": ".py",
   "mimetype": "text/x-python",
   "name": "python",
   "nbconvert_exporter": "python",
   "pygments_lexer": "ipython3",
   "version": "3.13.0"
  }
 },
 "nbformat": 4,
 "nbformat_minor": 2
}
